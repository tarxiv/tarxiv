{
 "cells": [
  {
   "cell_type": "code",
   "execution_count": 1,
   "id": "bc2da68c-ad86-4342-b147-381ecb499933",
   "metadata": {},
   "outputs": [
    {
     "name": "stdout",
     "output_type": "stream",
     "text": [
      "2025-05-24 02:30:34,978 - gmail - INFO - {'status': 'initializing', 'module': 'gmail'}\n",
      "2025-05-24 02:30:34,979 - gmail - INFO - {'status': 'connecting'}\n",
      "2025-05-24 02:30:35,126 - gmail - INFO - {'status': 'connected'}\n"
     ]
    }
   ],
   "source": [
    "# First connect to Gmail client and read messages\n",
    "from tarxiv.alerts import Gmail\n",
    "\n",
    "txv_gmail = Gmail(\"../aux/\")"
   ]
  },
  {
   "cell_type": "code",
   "execution_count": 3,
   "id": "5f3c69d6-662e-453b-a2dd-ee85434c0d37",
   "metadata": {},
   "outputs": [
    {
     "name": "stdout",
     "output_type": "stream",
     "text": [
      "2025-05-24 02:30:52,069 - gmail - INFO - {'status': 'starting monitoring thread'}\n",
      "2025-05-24 02:30:52,075 - gmail - INFO - {'status': 'stopping monitoring thread'}\n"
     ]
    },
    {
     "data": {
      "text/plain": [
       "'2025lsd'"
      ]
     },
     "execution_count": 3,
     "metadata": {},
     "output_type": "execute_result"
    }
   ],
   "source": [
    "# Start the monitoring tread and poll a message\n",
    "txv_gmail.monitor_notices()\n",
    "message, alerts = txv_gmail.poll(timeout=5)\n",
    "# Stop monitoring for the rest of the test\n",
    "txv_gmail.stop_monitoring()\n",
    "obj_name = alerts[0]\n",
    "obj_name"
   ]
  },
  {
   "cell_type": "code",
   "execution_count": 4,
   "id": "44e933af-73f3-4445-82c1-a87dee54e7b6",
   "metadata": {},
   "outputs": [
    {
     "name": "stdout",
     "output_type": "stream",
     "text": [
      "2025-05-24 02:30:55,661 - tns - INFO - {'status': 'initializing', 'module': 'tns'}\n",
      "2025-05-24 02:31:02,220 - tns - INFO - {'obj_name': '2025lsd', 'status': 'query success'}\n"
     ]
    },
    {
     "data": {
      "text/plain": [
       "{'identifiers': {'name': '2025lsd', 'source': 0},\n",
       " 'ra_deg': {'value': 211.514231, 'source': 0},\n",
       " 'dec_deg': {'value': -31.461414, 'source': 0},\n",
       " 'ra_hms': {'value': '14:06:03.415', 'source': 0},\n",
       " 'dec_dms': {'value': '-31:27:41.09', 'source': 0},\n",
       " 'object_type': [{'value': 'AT', 'source': 0}, {'value': None, 'source': 0}],\n",
       " 'discovery_date': {'value': '2025-05-24 10:21:28.512', 'source': 0},\n",
       " 'reporting_group': {'value': 'GOTO', 'source': 0},\n",
       " 'discovery_data_source': {'value': 'GOTO', 'source': 0}}"
      ]
     },
     "execution_count": 4,
     "metadata": {},
     "output_type": "execute_result"
    }
   ],
   "source": [
    "# Get information from lightcurve surveys\n",
    "from tarxiv.data_sources import TNS, ATLAS, ASAS_SN, ZTF\n",
    "\n",
    "# First query TNS\n",
    "txv_tns = TNS(\"../aux\")\n",
    "tns_meta, _ = txv_tns.get_object(obj_name)\n",
    "ra_deg, dec_deg = tns_meta[\"ra_deg\"][\"value\"], tns_meta[\"dec_deg\"][\"value\"]\n",
    "tns_meta\n"
   ]
  },
  {
   "cell_type": "code",
   "execution_count": 5,
   "id": "176ada5c-81ac-4ff2-a10a-bc9a3bec3878",
   "metadata": {},
   "outputs": [
    {
     "name": "stdout",
     "output_type": "stream",
     "text": [
      "2025-05-24 02:31:02,236 - atlas - INFO - {'status': 'initializing', 'module': 'atlas'}\n",
      "2025-05-24 02:31:11,513 - atlas - INFO - {'obj_name': '2025lsd', 'status': 'match', 'id': 1140603540312739900, 'lc_count': 5}\n"
     ]
    },
    {
     "data": {
      "text/plain": [
       "({'identifiers': [{'name': 1140603540312739900, 'source': 1}],\n",
       "  'ra_deg': [{'value': 211.51475, 'source': 1}],\n",
       "  'dec_deg': [{'value': -31.46109, 'source': 1}]},\n",
       "             mjd     mag  mag_err  limit filter unit survey\n",
       " 0  60568.986653  16.751    0.223  18.44      o  04a  ATLAS\n",
       " 1  60818.144861  18.955    0.194  19.46      c  04a  ATLAS\n",
       " 2  60818.160383  18.990    0.194  19.48      c  04a  ATLAS\n",
       " 3  60818.777373  18.858    0.197  19.41      o  03a  ATLAS\n",
       " 4  60818.812322  18.904    0.196  19.43      o  03a  ATLAS)"
      ]
     },
     "execution_count": 5,
     "metadata": {},
     "output_type": "execute_result"
    }
   ],
   "source": [
    "# Now ATLAS\n",
    "txv_atlas = ATLAS(\"../aux\")\n",
    "atlas_meta, atlas_lc = txv_atlas.get_object(obj_name, ra_deg, dec_deg)\n",
    "atlas_meta, atlas_lc"
   ]
  },
  {
   "cell_type": "code",
   "execution_count": 6,
   "id": "a6d0133a-61e3-49a2-89aa-72dc3caf5976",
   "metadata": {},
   "outputs": [
    {
     "name": "stdout",
     "output_type": "stream",
     "text": [
      "2025-05-24 02:31:16,956 - tns - INFO - {'obj_name': '2024iss', 'status': 'query success'}\n",
      "2025-05-24 02:31:32,921 - atlas - INFO - {'obj_name': '2024iss', 'status': 'match', 'id': 1125906141284842600, 'lc_count': 1589}\n"
     ]
    },
    {
     "data": {
      "text/plain": [
       "({'identifiers': [{'name': 1125906141284842600, 'source': 1},\n",
       "   {'name': 'ATLAS24hhy', 'source': 2}],\n",
       "  'ra_deg': [{'value': 194.7756, 'source': 1}],\n",
       "  'dec_deg': [{'value': 28.81184, 'source': 1}],\n",
       "  'redshift': {'value': 0.0032657735, 'source': 7}},\n",
       "                mjd     mag  mag_err  limit filter unit survey\n",
       " 0     60445.386132  13.442    0.003  19.35      o  02a  ATLAS\n",
       " 1     60445.386132  13.396    0.005  19.35      o  02a  ATLAS\n",
       " 2     60445.389294  13.394    0.005  19.39      o  02a  ATLAS\n",
       " 3     60445.389294  13.438    0.003  19.39      o  02a  ATLAS\n",
       " 4     60445.396294  13.452    0.003  19.33      o  02a  ATLAS\n",
       " ...            ...     ...      ...    ...    ...  ...    ...\n",
       " 1584  60791.436982  19.433    0.196  19.53      c  01a  ATLAS\n",
       " 1585  60792.414882  19.438    0.193  19.56      c  01a  ATLAS\n",
       " 1586  60793.408979  19.249    0.170  19.52      o  02a  ATLAS\n",
       " 1587  60798.385497  19.229    0.190  19.34      o  02a  ATLAS\n",
       " 1588  60799.331820  19.228    0.191  19.43      o  01a  ATLAS\n",
       " \n",
       " [1589 rows x 7 columns])"
      ]
     },
     "execution_count": 6,
     "metadata": {},
     "output_type": "execute_result"
    }
   ],
   "source": [
    "# Usually the surveys wont have imediate data for new sources, so lets try an old one\n",
    "obj_name = \"2024iss\"\n",
    "\n",
    "tns_meta, _ = txv_tns.get_object(obj_name)\n",
    "ra_deg, dec_deg = tns_meta[\"ra_deg\"][\"value\"], tns_meta[\"dec_deg\"][\"value\"]\n",
    "atlas_meta, atlas_lc = txv_atlas.get_object(obj_name, ra_deg, dec_deg)\n",
    "atlas_meta, atlas_lc"
   ]
  },
  {
   "cell_type": "code",
   "execution_count": 7,
   "id": "9f110d65-57ad-4184-aef9-edeed977d954",
   "metadata": {},
   "outputs": [
    {
     "name": "stdout",
     "output_type": "stream",
     "text": [
      "2025-05-24 02:31:32,943 - ztf - INFO - {'status': 'initializing', 'module': 'ztf'}\n",
      "2025-05-24 02:31:36,224 - ztf - INFO - {'obj_name': '2024iss', 'status': 'match', 'id': 'ZTF24aankvcy', 'lc_count': 28}\n"
     ]
    },
    {
     "data": {
      "text/plain": [
       "({'identifiers': [{'name': 'ZTF24aankvcy', 'source': 3}],\n",
       "  'ra_deg': [{'value': 194.7755991, 'source': 3}],\n",
       "  'dec_deg': [{'value': 28.8118776, 'source': 3}],\n",
       "  'host_name': [{'name': 'PGC1846725', 'source': 8}]},\n",
       "           mag   mag_err filter      limit           mjd  unit survey\n",
       " 0   18.897097  0.145049      R  19.549927  60744.423125  main    ZTF\n",
       " 1   19.451320  0.138804      g  20.457413  60727.413310  main    ZTF\n",
       " 2   19.464533  0.151103      g  20.038042  60725.383079  main    ZTF\n",
       " 3   18.210833  0.179195      R  18.493570  60710.433021  main    ZTF\n",
       " 4   18.801170  0.145244      g  19.480152  60691.477963  main    ZTF\n",
       " 5   18.898743  0.172329      g  19.402090  60687.495637  main    ZTF\n",
       " 6   18.774036  0.120490      g  20.031698  60684.473877  main    ZTF\n",
       " 7   18.769524  0.093810      g  20.107847  60682.404248  main    ZTF\n",
       " 8   18.717860  0.124860      g  19.510712  60678.509514  main    ZTF\n",
       " 9   18.593317  0.080440      g  20.498440  60676.472431  main    ZTF\n",
       " 10  18.609062  0.069879      g  20.703398  60674.540509  main    ZTF\n",
       " 11  18.492628  0.106843      g  19.769285  60664.466331  main    ZTF\n",
       " 12  18.209372  0.064977      g  20.035765  60652.485370  main    ZTF\n",
       " 13  18.206957  0.064740      g  20.345774  60650.543611  main    ZTF\n",
       " 14  18.034790  0.070588      g  20.030571  60640.517766  main    ZTF\n",
       " 15  17.977156  0.059116      g  19.802692  60637.487257  main    ZTF\n",
       " 16  17.877325  0.075021      g  19.349758  60634.487269  main    ZTF\n",
       " 17  17.005772  0.047299      R  19.107323  60613.537060  main    ZTF\n",
       " 18  16.972889  0.049412      R  19.262629  60613.531111  main    ZTF\n",
       " 19  15.562697  0.025970      g  20.468178  60494.195602  main    ZTF\n",
       " 20  15.366330  0.033453      g  20.541569  60486.216713  main    ZTF\n",
       " 21  15.320426  0.024425      g  19.537622  60484.260498  main    ZTF\n",
       " 22  15.265226  0.031553      g  19.897590  60482.196042  main    ZTF\n",
       " 23  14.167648  0.022556      R  18.972857  60480.330613  main    ZTF\n",
       " 24  15.134685  0.027240      g  19.912357  60480.204294  main    ZTF\n",
       " 25  14.943040  0.019399      g  19.814909  60477.211898  main    ZTF\n",
       " 26  14.756750  0.018296      g  19.818043  60475.208808  main    ZTF\n",
       " 27  14.591572  0.025147      g  20.285032  60473.195764  main    ZTF)"
      ]
     },
     "execution_count": 7,
     "metadata": {},
     "output_type": "execute_result"
    }
   ],
   "source": [
    "# Now try ZTF\n",
    "txv_ztf = ZTF(\"../aux/\")\n",
    "ztf_meta, ztf_lc = txv_ztf.get_object(obj_name, ra_deg, dec_deg)\n",
    "ztf_meta, ztf_lc"
   ]
  },
  {
   "cell_type": "code",
   "execution_count": 8,
   "id": "048c145c-a795-4841-b7d5-132bef631caf",
   "metadata": {},
   "outputs": [
    {
     "name": "stdout",
     "output_type": "stream",
     "text": [
      "2025-05-24 02:31:36,242 - asas-sn - INFO - {'status': 'initializing', 'module': 'asas-sn'}\n",
      "2025-05-24 02:31:47,024 - gmail - INFO - {'status': 'stopping monitoring thread'}\n",
      "2025-05-24 02:31:47,203 - asas-sn - INFO - {'obj_name': '2024iss', 'status': 'match', 'id': '661432306681', 'lc_count': 895}\n"
     ]
    },
    {
     "data": {
      "text/plain": [
       "({'identifiers': [{'name': '661432306681', 'source': 6}],\n",
       "  'ra_deg': [{'value': np.float64(194.77700000000002), 'source': 6}],\n",
       "  'dec_deg': [{'value': np.float64(28.81193), 'source': 6}]},\n",
       "                mjd        mag   mag_err      limit filter unit   survey\n",
       " 0     55954.627881  17.142907  0.064420  18.463458      V   ba  ASAS-SN\n",
       " 2     55973.573170  17.350041  0.081465  18.415723      V   ba  ASAS-SN\n",
       " 4     55997.503673  17.072510  0.171802  17.328043      V   ba  ASAS-SN\n",
       " 5     56002.484148  17.014979  0.076740  18.145526      V   ba  ASAS-SN\n",
       " 7     56310.663657  17.864528  0.187629  18.024385      V   ba  ASAS-SN\n",
       " ...            ...        ...       ...        ...    ...  ...      ...\n",
       " 1269  60652.662725  17.146767  0.182440  17.337075      g   bC  ASAS-SN\n",
       " 1270  60672.569723  16.952787  0.060671  18.338434      g   bC  ASAS-SN\n",
       " 1272  60697.541289  17.015819  0.076828  18.145123      g   bC  ASAS-SN\n",
       " 1273  60700.068149  17.048765  0.099793  17.894120      g   bo  ASAS-SN\n",
       " 1274  60708.496762  17.482445  0.092797  18.406711      g   bs  ASAS-SN\n",
       " \n",
       " [895 rows x 7 columns])"
      ]
     },
     "execution_count": 8,
     "metadata": {},
     "output_type": "execute_result"
    }
   ],
   "source": [
    "# Now try ASAS-SN (will need to update asas-sn transient pipeline, low hits currently)\n",
    "txv_asas_sn = ASAS_SN(\"../aux/\")\n",
    "asas_sn_meta, asas_sn_lc = txv_asas_sn.get_object(obj_name, ra_deg, dec_deg)\n",
    "asas_sn_meta, asas_sn_lc"
   ]
  },
  {
   "cell_type": "code",
   "execution_count": 20,
   "id": "51852c9b-43e7-474d-8f74-c036178740f1",
   "metadata": {},
   "outputs": [
    {
     "name": "stdout",
     "output_type": "stream",
     "text": [
      "2025-05-24 02:54:36,320 - couchbase - INFO - {'status': 'initializing', 'module': 'couchbase'}\n",
      "2025-05-24 02:54:36,320 - couchbase - INFO - {'status': 'initializing', 'module': 'couchbase'}\n",
      "2025-05-24 02:54:36,320 - couchbase - INFO - {'status': 'initializing', 'module': 'couchbase'}\n",
      "2025-05-24 02:54:36,325 - couchbase - INFO - connecting to couchbase\n",
      "2025-05-24 02:54:36,325 - couchbase - INFO - connecting to couchbase\n",
      "2025-05-24 02:54:36,325 - couchbase - INFO - connecting to couchbase\n",
      "2025-05-24 02:54:36,371 - couchbase - INFO - connected\n",
      "2025-05-24 02:54:36,371 - couchbase - INFO - connected\n",
      "2025-05-24 02:54:36,371 - couchbase - INFO - connected\n"
     ]
    },
    {
     "data": {
      "text/plain": [
       "{'schema': 'https://github.com/astrocatalogs/schema/README.md',\n",
       " 'sources': [],\n",
       " 'identifiers': [],\n",
       " 'ra_deg': [],\n",
       " 'dec_deg': [],\n",
       " 'ra_hms': [],\n",
       " 'dec_dms': [],\n",
       " 'object_type': [],\n",
       " 'discovery_date': [],\n",
       " 'reporting_group': [],\n",
       " 'discovery_data_source': [],\n",
       " 'redshift': [],\n",
       " 'host_name': [],\n",
       " 'peak_mag': []}"
      ]
     },
     "execution_count": 20,
     "metadata": {},
     "output_type": "execute_result"
    }
   ],
   "source": [
    "# Now we want to push this to the database\n",
    "from tarxiv.database import TarxivDB\n",
    "txv_db = TarxivDB(user=\"pipeline\", config_dir=\"../aux/\")\n",
    "\n",
    "# First get the insertion scheme\n",
    "schema = txv_db.get_object_schema()\n",
    "schema"
   ]
  },
  {
   "cell_type": "code",
   "execution_count": null,
   "id": "65bb8e0c-be09-4e8c-99b0-72ff71196292",
   "metadata": {},
   "outputs": [
    {
     "data": {
      "text/plain": [
       "{'schema': 'https://github.com/astrocatalogs/schema/README.md',\n",
       " 'sources': [{'name': 'tns',\n",
       "   'bibcode': '2021AAS...23742305G',\n",
       "   'reference': 'Gal-Yam et al. 2021',\n",
       "   'alias': 0},\n",
       "  {'name': 'atlas_twb',\n",
       "   'bibcode': '2020PASP..132h5002S',\n",
       "   'reference': 'Smith et al. 2020',\n",
       "   'alias': 1},\n",
       "  {'name': 'atlas_survey',\n",
       "   'bibcode': '2018PASP..130f4505T',\n",
       "   'reference': 'Tonry et al. 2018',\n",
       "   'alias': 2},\n",
       "  {'name': 'sherlock',\n",
       "   'bibcode': '10.5281/zenodo.8038057',\n",
       "   'reference': 'Young et al. 2023',\n",
       "   'alias': 7},\n",
       "  {'name': 'ztf_survey',\n",
       "   'bibcode': '2019PASP..131a8002B',\n",
       "   'reference': 'Belim et al. 2019',\n",
       "   'alias': 3},\n",
       "  {'name': 'fink',\n",
       "   'bibcode': '2021MNRAS.501.3272M',\n",
       "   'reference': 'Möller et al. 2020',\n",
       "   'alias': 4},\n",
       "  {'name': 'mangrove',\n",
       "   'bibcode': '2020MNRAS.492.4768D',\n",
       "   'reference': 'Ducoin et al. 2020',\n",
       "   'alias': 8},\n",
       "  {'name': 'asas-sn_survey',\n",
       "   'bibcode': '2014ApJ...788...48S',\n",
       "   'reference': 'Shappee et al. 2014',\n",
       "   'alias': 5},\n",
       "  {'name': 'asas-sn_skypatrol',\n",
       "   'bibcode': '2023arXiv230403791H',\n",
       "   'reference': 'Hart et al. 2023',\n",
       "   'alias': 6}],\n",
       " 'identifiers': [{'name': '2024iss', 'source': 0},\n",
       "  {'name': 1125906141284842600, 'source': 1},\n",
       "  {'name': 'ATLAS24hhy', 'source': 2},\n",
       "  {'name': 'ZTF24aankvcy', 'source': 3},\n",
       "  {'name': '661432306681', 'source': 6}],\n",
       " 'ra_deg': [{'value': 194.775542, 'source': 0},\n",
       "  {'value': 194.7756, 'source': 1},\n",
       "  {'value': 194.7755991, 'source': 3},\n",
       "  {'value': np.float64(194.77700000000002), 'source': 6}],\n",
       " 'dec_deg': [{'value': 28.811839, 'source': 0},\n",
       "  {'value': 28.81184, 'source': 1},\n",
       "  {'value': 28.8118776, 'source': 3},\n",
       "  {'value': np.float64(28.81193), 'source': 6}],\n",
       " 'ra_hms': [{'value': '12:59:06.130', 'source': 0}],\n",
       " 'dec_dms': [{'value': '+28:48:42.62', 'source': 0}],\n",
       " 'object_type': [{'value': 'SN', 'source': 0},\n",
       "  {'value': 'SN IIb', 'source': 0}],\n",
       " 'discovery_date': [{'value': '2024-05-12 21:36:45.792', 'source': 0}],\n",
       " 'reporting_group': [{'value': 'GOTO', 'source': 0}],\n",
       " 'discovery_data_source': [{'value': 'GOTO', 'source': 0}],\n",
       " 'redshift': [{'value': 0.003334, 'source': 0},\n",
       "  {'value': 0.0032657735, 'source': 7}],\n",
       " 'host_name': [{'name': 'PGC1846725', 'source': 8}],\n",
       " 'peak_mag': [{'filter': 'R',\n",
       "   'value': 14.167648,\n",
       "   'mjd_recorded': 60480.330613399856,\n",
       "   'source': 3},\n",
       "  {'filter': 'V',\n",
       "   'value': 16.08164818723351,\n",
       "   'mjd_recorded': 55954.627881099936,\n",
       "   'source': 5},\n",
       "  {'filter': 'c',\n",
       "   'value': 17.415,\n",
       "   'mjd_recorded': 60641.63244975,\n",
       "   'source': 2},\n",
       "  {'filter': 'g',\n",
       "   'value': 13.506078757685941,\n",
       "   'mjd_recorded': 58099.44114479981,\n",
       "   'source': 5},\n",
       "  {'filter': 'o',\n",
       "   'value': 13.058,\n",
       "   'mjd_recorded': 60445.38613205,\n",
       "   'source': 2}]}"
      ]
     },
     "execution_count": 21,
     "metadata": {},
     "output_type": "execute_result"
    }
   ],
   "source": [
    "import pandas as pd\n",
    "\n",
    "# Now we populate this schema with our survey information\n",
    "obj_meta = txv_tns.update_object_meta(schema, tns_meta)\n",
    "obj_meta = txv_atlas.update_object_meta(obj_meta, atlas_meta)\n",
    "obj_meta = txv_ztf.update_object_meta(obj_meta, ztf_meta)\n",
    "obj_meta = txv_asas_sn.update_object_meta(obj_meta, asas_sn_meta)\n",
    "\n",
    "\n",
    "# Colate lightcurves and add peak mag measurements to schema\n",
    "lc_df = pd.concat([atlas_lc, ztf_lc, asas_sn_lc])\n",
    "\n",
    "# Add peak magnitudes to meta\n",
    "obj_meta = txv_tns.meta_add_peak_mags(obj_meta, lc_df)\n",
    "#obj_meta = clean_meta(obj_meta)\n",
    "obj_meta"
   ]
  },
  {
   "cell_type": "code",
   "execution_count": 11,
   "id": "a748b7aa-3eb0-40bc-a94c-734095e8a8b5",
   "metadata": {},
   "outputs": [
    {
     "data": {
      "text/plain": [
       "[{'mjd': 60445.38613205,\n",
       "  'mag': 13.442,\n",
       "  'mag_err': 0.003,\n",
       "  'limit': 19.35,\n",
       "  'filter': 'o',\n",
       "  'unit': '02a',\n",
       "  'survey': 'ATLAS'},\n",
       " {'mjd': 60445.38613205,\n",
       "  'mag': 13.396,\n",
       "  'mag_err': 0.005,\n",
       "  'limit': 19.35,\n",
       "  'filter': 'o',\n",
       "  'unit': '02a',\n",
       "  'survey': 'ATLAS'},\n",
       " {'mjd': 60445.38929445,\n",
       "  'mag': 13.394,\n",
       "  'mag_err': 0.005,\n",
       "  'limit': 19.39,\n",
       "  'filter': 'o',\n",
       "  'unit': '02a',\n",
       "  'survey': 'ATLAS'},\n",
       " {'mjd': 60445.38929445,\n",
       "  'mag': 13.438,\n",
       "  'mag_err': 0.003,\n",
       "  'limit': 19.39,\n",
       "  'filter': 'o',\n",
       "  'unit': '02a',\n",
       "  'survey': 'ATLAS'},\n",
       " {'mjd': 60445.39629385,\n",
       "  'mag': 13.452,\n",
       "  'mag_err': 0.003,\n",
       "  'limit': 19.33,\n",
       "  'filter': 'o',\n",
       "  'unit': '02a',\n",
       "  'survey': 'ATLAS'}]"
      ]
     },
     "execution_count": 11,
     "metadata": {},
     "output_type": "execute_result"
    }
   ],
   "source": [
    "# Convert to json for submission\n",
    "obj_lc = lc_df.to_dict(orient=\"records\")\n",
    "obj_lc[:5]"
   ]
  },
  {
   "cell_type": "code",
   "execution_count": 15,
   "id": "4ed17aca-8dd1-46eb-8c4a-89bca5919aa5",
   "metadata": {},
   "outputs": [
    {
     "name": "stdout",
     "output_type": "stream",
     "text": [
      "2025-05-24 02:31:57,164 - couchbase - INFO - {'status': 'upserted', 'object_name': '2024iss', 'collection': 'tns_objects'}\n",
      "2025-05-24 02:31:57,182 - couchbase - INFO - {'status': 'upserted', 'object_name': '2024iss', 'collection': 'tns_lightcurves'}\n",
      "2025-05-24 02:31:57,189 - couchbase - INFO - {'status': 'retrieved', 'object_name': '2024iss', 'collection': 'tns_lightcurves'}\n"
     ]
    },
    {
     "data": {
      "text/plain": [
       "[{'mjd': 60652.662725199945,\n",
       "  'mag': 17.14676732419121,\n",
       "  'mag_err': 0.18243957969633454,\n",
       "  'limit': 17.33707508737741,\n",
       "  'filter': 'g',\n",
       "  'unit': 'bC',\n",
       "  'survey': 'ASAS-SN'},\n",
       " {'mjd': 60672.56972299982,\n",
       "  'mag': 16.952787419187427,\n",
       "  'mag_err': 0.06067130961284383,\n",
       "  'limit': 18.338434416349553,\n",
       "  'filter': 'g',\n",
       "  'unit': 'bC',\n",
       "  'survey': 'ASAS-SN'},\n",
       " {'mjd': 60697.54128880007,\n",
       "  'mag': 17.01581859686997,\n",
       "  'mag_err': 0.07682814843845448,\n",
       "  'limit': 18.14512310066781,\n",
       "  'filter': 'g',\n",
       "  'unit': 'bC',\n",
       "  'survey': 'ASAS-SN'},\n",
       " {'mjd': 60700.06814889982,\n",
       "  'mag': 17.048765240426548,\n",
       "  'mag_err': 0.09979303561155477,\n",
       "  'limit': 17.894120077067562,\n",
       "  'filter': 'g',\n",
       "  'unit': 'bo',\n",
       "  'survey': 'ASAS-SN'},\n",
       " {'mjd': 60708.49676229991,\n",
       "  'mag': 17.482445066947744,\n",
       "  'mag_err': 0.09279739833409015,\n",
       "  'limit': 18.40671098644738,\n",
       "  'filter': 'g',\n",
       "  'unit': 'bs',\n",
       "  'survey': 'ASAS-SN'}]"
      ]
     },
     "execution_count": 15,
     "metadata": {},
     "output_type": "execute_result"
    }
   ],
   "source": [
    "# Push to database\n",
    "txv_db.upsert(\"2024iss\", obj_meta, \"tns_objects\")\n",
    "txv_db.upsert(\"2024iss\", obj_lc, \"tns_lightcurves\")\n",
    "\n",
    "# Rertrieve both\n",
    "res = txv_db.get(\"2024iss\", \"tns_lightcurves\")\n",
    "\n",
    "res[-5:]"
   ]
  },
  {
   "cell_type": "code",
   "execution_count": null,
   "id": "932ca9b8-78c5-4500-8789-7fb96c5abad8",
   "metadata": {},
   "outputs": [],
   "source": []
  }
 ],
 "metadata": {
  "kernelspec": {
   "display_name": "repo_kernel",
   "language": "python",
   "name": "repo_kernel"
  },
  "language_info": {
   "codemirror_mode": {
    "name": "ipython",
    "version": 3
   },
   "file_extension": ".py",
   "mimetype": "text/x-python",
   "name": "python",
   "nbconvert_exporter": "python",
   "pygments_lexer": "ipython3",
   "version": "3.12.3"
  }
 },
 "nbformat": 4,
 "nbformat_minor": 5
}
